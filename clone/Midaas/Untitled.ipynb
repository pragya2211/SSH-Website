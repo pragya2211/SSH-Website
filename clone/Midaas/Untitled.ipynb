{
 "cells": [
  {
   "cell_type": "code",
   "execution_count": 140,
   "metadata": {},
   "outputs": [],
   "source": [
    "import praw\n",
    "import json\n",
    "from flask import request\n",
    "import pandas as pd\n",
    "import io\n",
    "import nltk\n",
    "import random\n",
    "from nltk.corpus import stopwords\n",
    "from nltk.stem import WordNetLemmatizer\n",
    "from nltk.stem import PorterStemmer\n",
    "from nltk.tokenize import sent_tokenize, word_tokenize\n",
    "import pickle\n",
    "\n",
    "client_id = \"LoffJKJOYt2vYg\"\n",
    "client_secret = \"mUy-jpJ6nCUxPRj5rE7_qttqGqE\"\n",
    "user_agent= \"Reddit Flare detection\"\n",
    "username = \"pragya2211\"\n",
    "password = \"Pragya2211!\"\n",
    "\n",
    "reddit = praw.Reddit(client_id = client_id,client_secret=client_secret,\n",
    "                    user_agent = user_agent,username= username,\n",
    "                     password=password)\n",
    "\n",
    "\n",
    "\n",
    "\n",
    "\n",
    "\n",
    "\n",
    "\n",
    "\n"
   ]
  },
  {
   "cell_type": "code",
   "execution_count": null,
   "metadata": {},
   "outputs": [],
   "source": [
    "def remove_stopwords(text):\n",
    "    for w in text:\n",
    "        if w == \"\\n\":\n",
    "            w= \"\"\n",
    "    text_tokens = word_tokenize(text)\n",
    "    w_sw = [word for word in text_tokens if not word in stopwords.words()]\n",
    "    return w_sw\n",
    "\n",
    "\n",
    "ps= PorterStemmer()\n",
    "def stemming(text):\n",
    "    lis = []\n",
    "    t = str(text)\n",
    "    aux_l = \"\"\n",
    "    words = []\n",
    "    for w in text:\n",
    "        rootword = ps.stem(w)\n",
    "        rootword = str(rootword)\n",
    "        aux_l = aux_l+ rootword+ \" \"\n",
    "    lis.append(aux_l)\n",
    "    return lis\n"
   ]
  },
  {
   "cell_type": "code",
   "execution_count": 139,
   "metadata": {},
   "outputs": [
    {
     "name": "stdout",
     "output_type": "stream",
     "text": [
      "['coronaviru ( covid-19 ) megathread - new updat - 3 ', \"# # # [ covid-19 fundrais & donat link ] ( http : //amnesty.org.in/support-indias-most-vulnerable-fight-covid-19-a-list-of-fundraisers-you-can-donate-to/ ) via amnesti intern * [ thi link cover ] ( http : //amnesty.org.in/support-indias-most-vulnerable-fight-covid-19-a-list-of-fundraisers-you-can-donate-to/ ) migrant worker day-labour , other vulner group , urban poor , transgend commun , waste-pick sanit worker , healthcar worker doctor , older person & children anim care -- -- -- -- -- -- -- -- -- -- -- -- -- -- -- -- -- -- -- -- -- -- -- -- -- -- -- -- -- -- -- -- -- -- -- -- -- -- -- -- -- -- -- -- -- -- -- -- -- -- -- # # # # # indian gover * [ offici twitter collect indian govt . commun ] ( http : //twitter.com/i/events/1240662046280048646 ) * [ state district wise detail case india ] ( http : //www.mohfw.gov.in/pdf/districtwiselist324.pdf ) * all india helplin : 1075 ( toll free ) | 1930 ( toll free ) | 1944 ( northeast india onli ) | +911123978046 | email ID : ncov2019 @ gov.in * [ state helplin number ] ( http : //www.mohfw.gov.in/pdf/coronvavirushelplinenumber.pdf ) * [ test center list ] ( http : //covid.icmr.org.in/index.php/testing-facil ) # # # # # state specif thread via reddit commun * [ andaman & amp ; nicobar , lakshadweep , puducherri , dadra & amp ; nagar have , daman & amp ; diu ] ( http : //www.reddit.com/r/coronaindia/comments/fqmry7/coronavirus_covid19_megathread_news_and_updates/ ) via u/thedosaman * [ bihar ] ( http : //www.reddit.com/r/india/comments/ftky3g/covid19_every_updates_from_bihar/ ) via u/filmmakerfarhan * [ delhi ] ( http : //www.reddit.com/r/india/comments/fu2v1h/all_covid_19_updates_of_delhi/ ) via u/ppccbba * [ gujarat ] ( http : //www.reddit.com/r/india/comments/fw07cd/covid19_gujarat_upd ) via u/helvetikka * [ karnataka ] ( http : //www.reddit.com/r/india/comments/fpv4xk/karnataka_covid19_updates/ ) via u/theclassicgalleri * [ kerala ] ( http : //www.reddit.com/r/kerala/comments/fgc8m6/coronavirus_covid19_megathread_news_and_updates/ ) via u/nithinvnath * [ madhya pradesh ] ( http : //www.reddit.com/r/india/comments/fpt2jw/mp_covid19_megathread/ ) via u/maardon_bhenji * [ maharashtra ] ( http : //www.reddit.com/r/india/comments/fq2vqj/covid19_updates_for_maharashtra/ ) via u/hrishidev * [ odisha ] ( http : //www.reddit.com/r/india/comments/frstw5/covid19all_updates_for_odisha ) via u/aviakki1 * [ nagaland ] ( http : //www.reddit.com/user/-imsodone-/comments/fqpnov/covid19_updates_nagaland/ ) via u/-imsodone- * [ punjab ] ( http : //www.reddit.com/r/india/comments/fsbwuj/punjab_covid_updates_thread/ ) via u/thealtchemist * [ rajasthan ] ( http : //www.reddit.com/r/pinkcity/comments/fps590/covid19_updates_for_rajasthan/ ) via /u/isaacseaman * [ tamil nadu ] ( http : //www.reddit.com/r/chennai/comments/fr62oj/covid19_daily_news_updates/ ) via u/ughalright * [ telangana ] ( http : //www.reddit.com/r/india/comments/fqn8jf/covid19_all_updates_in_telangana/ ) via u/lifehacker25 * [ uttar pradesh ] ( http : //www.reddit.com/r/india/comments/fptwqz/covid19_all_updates_in_uttar_pradesh/ ) via u/ppccbba * [ uttarakhand ] ( http : //www.reddit.com/r/india/comments/fs95z1/covid19_updates_uttarakhand_edition/ ) via u/leopard_dopi * [ west bengal ] ( http : //www.reddit.com/r/kolkata/comments/fi5hqd/covid19_updates/ ) via /u/ppatra * [ *more state added* ] # # # # # coronaviru tracker , new , updat * [ case number via indian govt . ] ( http : //www.mohfw.gov.in/ ) * [ case number map via ndtv ] ( http : //www.ndtv.com/coronavirus/india-covid-19-outbreak-map ) * [ covid19india.org ] ( http : //www.covid19india.org ) * r/coronaviru * r/worldnew * r/covid19posit covid-19 patient # # # # # use guid , precaut , help tip , self assess * [ safeti tip ] ( http : //www.who.int/emergencies/diseases/novel-coronavirus-2019/advice-for-publ ) * [ coronaviru condit overview ] ( http : //www.who.int/health-topics/coronaviru ) * [ coronaviru Q & amp ; A ] ( http : //www.who.int/news-room/q-a-detail/q-a-coronavirus ) * [ how protect yourself prepar coronaviru ] ( http : //www.nytimes.com/article/prepare-for-coronavirus.html ) * [ myth buster via who ] ( http : //www.who.int/emergencies/diseases/novel-coronavirus-2019/advice-for-public/myth-bust ) * [ self assess tool covid19 ] ( http : //coronavirus.heallify.com/ ) # # # # # coronaviru ( covid-19 ) multi-lingu shareabl resourc wiki * [ wiki thread ] ( http : //www.reddit.com/r/india/comments/fo0xj9/coronavirus_covid19_multilingual_resources_wiki/ ) * [ assames ] ( http : //1drv.ms/u/ ! aoyomn7lwek1gn1u2snswtmrdyym ? e=qtg6hi ) | [ bengali ] ( http : //1drv.ms/u/ ! aoyomn7lwek1gkqmhfrcljnn_gxa ? e=c4org5 ) | [ english ] ( http : //1drv.ms/u/ ! aoyomn7lwek1gwsxzmto6bkkkygn ? e=sgyupr ) | [ gujarati ] ( http : //1drv.ms/u/ ! aoyomn7lwek1ght7ez9gamqzdnun ? e=dojzmj ) | [ hindi ] ( http : //1drv.ms/u/ ! aoyomn7lwek1gwnzzpiljrp9jqk ? e=bu6eog ) | [ kannada ] ( http : //1drv.ms/u/ ! aoyomn7lwek1ggji4cs2y1zulzol ? e=s43xhf ) | [ konkani ] ( http : //1drv.ms/u/ ! aoyomn7lwek1gmrjkbslnmdc-1s1 ? e=gpdqma ) | [ malayalam ] ( http : //1drv.ms/u/ ! aoyomn7lwek1gmeu30hlpvt-0cqo ? e=dnhg3u ) | [ marathi ] ( http : //1drv.ms/u/ ! aoyomn7lwek1giu0e8l9sbt27ac_ ? e=eenuhi ) | [ marwari ] ( http : //1drv.ms/u/ ! aoyomn7lwek1gxxp8r5cpzet5zhp ? e=hwuxnt ) | [ oriya ] ( http : //1drv.ms/u/ ! aoyomn7lwek1gwcrc-wb195oyuxd ? e=oztva4 ) | [ punjabi ] ( http : //1drv.ms/u/ ! aoyomn7lwek1gjxtsvu761f9hz ? e=9gjaqg ) | [ tamil ] ( http : //1drv.ms/u/ ! aoyomn7lwek1gglvlhfkhssmzgto ? e=yhlnro ) | [ telegu ] ( http : //1drv.ms/f/ ! aoyomn7lwek1gkevvg2wlij6up78 ) | [ urdu ] ( http : //1drv.ms/u/ ! aoyomn7lwek1gwwpu8n-i2_x9z5n ? e=8fuhqi ) # # # # # r/india commun * [ covid-19 india tracker ] ( http : //www.covid19india.org/ ) via u/splitladoo * [ crowdsourc handbook india specif data resourc ] ( http : //covidindiasupport.com/main ) via u/lilhuman0 * [ googl spreadsheet statewis infect ] ( http : //docs.google.com/spreadsheets/d/1ukqaxmd5gkghbkmmp_fbnlrfldic_kv-i_802f77ih0/edit # gid=0 ) via /u/lord_blood_raven # # # # # precaut prevent corona viru ^current ^there ^i ^no ^vaccin ^avail ^to ^protect ^against ^human ^corona ^viru ^but ^we ^can ^reduc ^the ^transmiss ^of ^viru ^bi ^take ^follow ^precaut : * Do * wash hand regularli 20 second , soap water alcohol-bas hand rub * cover nose mouth dispos tissu flex elbow cough sneez * avoid close contact ( 1 meter 3 feet ) peopl unwel * stay home self-isol other household feel unwel * don't * touch eye , nose , mouth hand clean # # # # # how quarantin yourself via [ new york time ] ( http : //www.nytimes.com/2020/03/06/health/self-quarantine-coronavirus.html ) ^if ^you ’ ^return ^from ^an ^area ^that ’ ^had ^a ^coronaviru ^outbreak , ^or ^if ^you ’ ^been ^in ^close ^contact ^with ^someon ^who ^test ^posit , ^you ^may ^be ^ask ^to ^isol ^yourself ^at ^home ^for ^two ^week , ^the ^presum ^incub ^period ^for ^the ^coronaviru . ^it ’ ^not ^easi ^to ^lock ^yourself ^away ^from ^your ^famili ^and ^friend . ^these ^are ^the ^basic . 1 . **isolation** : If infect expos coronaviru , must seclud partner , housem , children , older aunt even pet . If ’ room , design exclus use . No visitor unless ’ absolut essenti . don ’ bu , subway even taxi . 2 . **masks** : If must around peopl — home , car , ’ way see doctor ( ’ call first ) — wear mask . everyon els , . 3 . **hygiene** : cover mouth nose tissu cough sneez , discard line trash . immedi wash hand soap water least 20 second . you use sanit , soap water prefer . wash hand frequent avoid touch eye , nose mouth , ’ wash . 4 . **disinfecting** : don ’ share dish , drink glass , eat utensil , towel bed . wash item use . use household cleaner wipe countertop , tabletop , doorknob , bathroom fixtur , toilet , phone , keyboard , tablet bedsid tabl . that goe surfac may contamin bodili fluid . 5 . **household members** : when around patient , wear mask , add glove ’ touch anyth might carri patient ’ bodili fluid . dispos mask glove immedi . the older member chronic medic condit minim contact seclud individu . # # # # # share idl cpu/gpu power toward find solut covid-19 & gt ; Do cpu/gpu sit home , anyth ? If ye , will let work discoveri , pleas check fold home . the follow text /r/pcmasterrac join us donat unus gpu cpu comput power fight coronaviru ( sever ill , like cancer , parkinson 's , etc ) . To download [ click here ] ( http : //foldingathome.org/start-folding/ ) . & gt ; To learn project , need instruct run , check http : //pcmasterrace.org/fold . & amp ; nbsp ; older thread : [ part I ] ( http : //www.reddit.com/r/india/comments/f2kaxr/covid19_megathread_news_and_updates/ ) | [ part II ] ( http : //www.reddit.com/r/india/comments/fkttm7/coronavirus_covid19_megathread_news_and_updates_ii/ ) \", '# # # [ covid-19 fundrais & donat link ] ( http : //amnesty.org.in/support-indias-most-vulnerable-fight-covid-19-a-list-of-fundraisers-you-can-donate-to/ ) via amnesti intern * [ thi link cover ] ( http : //amnesty.org.in/support-indias-most-vulnerable-fight-covid-19-a-list-of-fundraisers-you-can-donate-to/ ) migrant worker day-labour , other vulner group , urban poor , transgend commun , waste-pick sanit worker , healthcar worker doctor , older person & children anim care -- -- -- -- -- -- -- -- -- -- -- -- -- -- -- -- -- -- -- -- -- -- -- -- -- -- -- -- -- -- -- -- -- -- -- -- -- -- -- -- -- -- -- -- -- -- -- -- -- -- -- **i look volunteers** will creat updat state level thread time lockdown . updat mostli consist latest news state respect coronaviru ongo lockdown . # # # # # 🔴 requir volunt jammu & kashmir ladakh | sikkim | manipur | mizoram | assam | meghalaya | tripura | arunach pradesh | jharkhand | goa | chattisgarh | haryana | himach pradesh | nagaland | andhra pradesh *pleas repli comment state updat daili . daili updat respons , pleas volunt think time maintain come week . thank . * ']\n"
     ]
    },
    {
     "data": {
      "text/plain": [
       "'Coronavirus'"
      ]
     },
     "execution_count": 139,
     "metadata": {},
     "output_type": "execute_result"
    }
   ],
   "source": [
    "def detect(url):\n",
    "    s = \"\"\n",
    "    submission = reddit.submission(url=url)\n",
    "    #print(submission.title)\n",
    "    posts = {\"title\":[], \"body\":[], \"comments\": [],\"combine\": []}\n",
    "    posts[\"title\"] = submission.title\n",
    "    posts[\"body\"] = submission.selftext\n",
    "    comment_list = []\n",
    "    submission.comments.replace_more(limit = 0)\n",
    "    for comment in submission.comments:\n",
    "        comment_list.append(comment.body)\n",
    "    posts[\"comments\"] = comment_list\n",
    "    c_remove = []\n",
    "    for i in posts[\"comments\"]:\n",
    "        c = remove_stopwords(i)\n",
    "        c_remove.append(c)\n",
    "    t_remove = remove_stopwords(posts[\"title\"])\n",
    "    b_remove = remove_stopwords(posts[\"body\"])\n",
    "    posts[\"title\"] = stemming(t_remove)\n",
    "    posts[\"body\"] = stemming(b_remove)\n",
    "    posts[\"comments\"] = []\n",
    "    for i in c_remove:\n",
    "        a = stemming(i)\n",
    "        posts[\"comments\"].append(a)\n",
    "    #print(posts[\"title\"])\n",
    "    #posts[\"comments\"] =  stemming(c_remove)\n",
    "    posts[\"combine\"] = posts[\"title\"]+ posts[\"body\"]+ posts[\"comments\"][0]\n",
    "    loaded_model = pickle.load(open(\"finalized_model.sav\", 'rb'))\n",
    "    print(posts[\"combine\"])\n",
    "    return loaded_model.predict(posts['combine'])[0]\n",
    "\n"
   ]
  },
  {
   "cell_type": "code",
   "execution_count": null,
   "metadata": {},
   "outputs": [],
   "source": [
    "detect(\"https://www.reddit.com/r/india/comments/fqqdsg/coronavirus_covid19_megathread_news_and_updates_3/\")\n"
   ]
  }
 ],
 "metadata": {
  "kernelspec": {
   "display_name": "Python 3",
   "language": "python",
   "name": "python3"
  },
  "language_info": {
   "codemirror_mode": {
    "name": "ipython",
    "version": 3
   },
   "file_extension": ".py",
   "mimetype": "text/x-python",
   "name": "python",
   "nbconvert_exporter": "python",
   "pygments_lexer": "ipython3",
   "version": "3.7.2"
  }
 },
 "nbformat": 4,
 "nbformat_minor": 2
}
