{
 "cells": [
  {
   "cell_type": "code",
   "execution_count": 47,
   "metadata": {},
   "outputs": [],
   "source": [
    "import praw\n",
    "import json\n",
    "from flask import request\n",
    "import pandas as pd\n",
    "import datetime"
   ]
  },
  {
   "cell_type": "code",
   "execution_count": 48,
   "metadata": {},
   "outputs": [],
   "source": [
    "client_id = \"LoffJKJOYt2vYg\"\n",
    "client_secret = \"mUy-jpJ6nCUxPRj5rE7_qttqGqE\"\n",
    "user_agent= \"Reddit Flare detection\"\n",
    "username = \"pragya2211\"\n",
    "password = \"Pragya2211!\""
   ]
  },
  {
   "cell_type": "code",
   "execution_count": null,
   "metadata": {},
   "outputs": [],
   "source": []
  },
  {
   "cell_type": "code",
   "execution_count": 49,
   "metadata": {
    "scrolled": true
   },
   "outputs": [],
   "source": [
    "reddit = praw.Reddit(client_id = client_id,client_secret=client_secret,\n",
    "                    user_agent = user_agent,username= username,\n",
    "                     password=password)"
   ]
  },
  {
   "cell_type": "code",
   "execution_count": 91,
   "metadata": {},
   "outputs": [],
   "source": [
    "subreddit = reddit.subreddit('india')\n",
    "flairs = [\"Scheduled\", \"Politics\", \"Photography\",\"Policy/Economy\",\"AskIndia\"\n",
    "         \"Sports\",\"Non-Political\",\"Science/Technology\",\"Food\",\n",
    "            \"Business/Finance\",\"Coronavirus\",\"Megathread\",\"CAA-NRC-NPR\"]"
   ]
  },
  {
   "cell_type": "code",
   "execution_count": null,
   "metadata": {},
   "outputs": [],
   "source": [
    "top_subreddit = subreddit.top()\n",
    "top_subreddit = subreddit.top(limit=1000)\n",
    "posts = {\"flair\":[],\"id\": [],\"score\" : [],\"body\": [],\"numberOfcomments\":[], \"created\": [], \"author\" :[],\"upvoteRatio\": [],}\n",
    "for submission in top_subreddit:\n",
    "    if submission.link_flair_text in flairs:\n",
    "        posts[\"flair\"].append(submission.link_flair_text)\n",
    "        posts[\"id\"].append(submission.id)\n",
    "        posts[\"score\"].append(submission.score)\n",
    "        posts[\"body\"].append(submission.selftext)\n",
    "        posts[\"numberOfcomments\"].append(submission.num_comments)\n",
    "        posts[\"created\"].append(submission.created)\n",
    "        posts[\"author\"].append(submission.author)\n",
    "        posts[\"upvoteRatio\"].append(submission.upvote_ratio)\n",
    "        \n",
    "    "
   ]
  },
  {
   "cell_type": "code",
   "execution_count": null,
   "metadata": {},
   "outputs": [],
   "source": [
    "def get_date(created):\n",
    "    return dt.datetime.fromtimestamp(created)\n",
    "_timestamp = topics_data[\"created\"].apply(datetime.datetime.fromtimestamp(created))\n",
    "topics_data = topics_data.assign(timestamp = _timestamp)"
   ]
  },
  {
   "cell_type": "code",
   "execution_count": null,
   "metadata": {},
   "outputs": [],
   "source": [
    "posts_data = pd.DataFrame(posts)\n",
    "posts_data"
   ]
  },
  {
   "cell_type": "code",
   "execution_count": null,
   "metadata": {},
   "outputs": [],
   "source": []
  },
  {
   "cell_type": "code",
   "execution_count": 52,
   "metadata": {},
   "outputs": [],
   "source": []
  },
  {
   "cell_type": "code",
   "execution_count": 53,
   "metadata": {},
   "outputs": [],
   "source": []
  },
  {
   "cell_type": "code",
   "execution_count": null,
   "metadata": {},
   "outputs": [],
   "source": []
  },
  {
   "cell_type": "code",
   "execution_count": 55,
   "metadata": {},
   "outputs": [],
   "source": [
    "\n"
   ]
  },
  {
   "cell_type": "code",
   "execution_count": null,
   "metadata": {},
   "outputs": [],
   "source": []
  },
  {
   "cell_type": "code",
   "execution_count": null,
   "metadata": {},
   "outputs": [],
   "source": []
  }
 ],
 "metadata": {
  "kernelspec": {
   "display_name": "Python 3",
   "language": "python",
   "name": "python3"
  },
  "language_info": {
   "codemirror_mode": {
    "name": "ipython",
    "version": 3
   },
   "file_extension": ".py",
   "mimetype": "text/x-python",
   "name": "python",
   "nbconvert_exporter": "python",
   "pygments_lexer": "ipython3",
   "version": "3.7.2"
  }
 },
 "nbformat": 4,
 "nbformat_minor": 2
}
